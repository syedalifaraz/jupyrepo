{
 "cells": [
  {
   "cell_type": "markdown",
   "metadata": {
    "collapsed": true
   },
   "source": [
    "# My First Jupyter Notebook on IBM Watson Studio\n"
   ]
  },
  {
   "cell_type": "markdown",
   "metadata": {},
   "source": [
    "**Syed Ali Faraz** \n",
    "\n",
    "I am System Analyst "
   ]
  },
  {
   "cell_type": "markdown",
   "metadata": {},
   "source": [
    "*I am interested in Data Science because I love Machine Learning and Neural Network.*"
   ]
  },
  {
   "cell_type": "markdown",
   "metadata": {},
   "source": [
    "### Our Fifth line is about Simple Math in Code Line"
   ]
  },
  {
   "cell_type": "code",
   "execution_count": 1,
   "metadata": {},
   "outputs": [
    {
     "data": {
      "text/plain": [
       "1"
      ]
     },
     "execution_count": 1,
     "metadata": {},
     "output_type": "execute_result"
    }
   ],
   "source": [
    "22%3"
   ]
  },
  {
   "cell_type": "markdown",
   "metadata": {},
   "source": [
    "###### Bullet list\n",
    "* My bullet 1\n",
    "* My bullet 2\n",
    "    * My sub Bullet\n",
    "\n",
    "###### Number list    \n",
    "1. number1\n",
    "2. number2\n",
    "3. number3\n",
    "\n",
    "###### Table\n",
    "<table>\n",
    "  <tr>\n",
    "    <th>Corporation</th>\n",
    "    <th>Phone</th>\n",
    "    <th>Country</th>\n",
    "  </tr>\n",
    "  <tr>\n",
    "    <td>Bin Bawany</td>\n",
    "    <td>012345678</td>\n",
    "    <td>Pakistan</td>\n",
    "  </tr>\n",
    "  <tr>\n",
    "    <td>MCS</td>\n",
    "    <td>012345678</td>\n",
    "    <td>Turkey</td>\n",
    "  </tr>\n",
    "</table>"
   ]
  }
 ],
 "metadata": {
  "kernelspec": {
   "display_name": "Python 3 (ipykernel)",
   "language": "python",
   "name": "python3"
  },
  "language_info": {
   "codemirror_mode": {
    "name": "ipython",
    "version": 3
   },
   "file_extension": ".py",
   "mimetype": "text/x-python",
   "name": "python",
   "nbconvert_exporter": "python",
   "pygments_lexer": "ipython3",
   "version": "3.9.12"
  }
 },
 "nbformat": 4,
 "nbformat_minor": 1
}
